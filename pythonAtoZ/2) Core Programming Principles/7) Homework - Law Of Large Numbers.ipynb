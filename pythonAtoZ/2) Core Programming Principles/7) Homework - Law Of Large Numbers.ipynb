{
 "cells": [
  {
   "cell_type": "code",
   "execution_count": 2,
   "metadata": {},
   "outputs": [],
   "source": [
    "import numpy as np\n",
    "from numpy.random import randn"
   ]
  },
  {
   "cell_type": "code",
   "execution_count": 30,
   "metadata": {},
   "outputs": [
    {
     "name": "stdout",
     "output_type": "stream",
     "text": [
      "Mean with 10 samples: 70.0\n",
      "Mean with 100 samples: 68.0\n",
      "Mean with 1000 samples: 69.69999999999999\n",
      "Mean with 10000 samples: 68.05\n",
      "Mean with 100000 samples: 68.324\n"
     ]
    }
   ],
   "source": [
    "myList = [10, 100, 1000, 10000, 100000]\n",
    "\n",
    "for x in myList:\n",
    "    totalBetween = 0\n",
    "    for y in randn(x):\n",
    "        if (y > -1 and y < 1):\n",
    "            totalBetween = totalBetween + 1\n",
    "    mean = totalBetween / x\n",
    "    print('Mean with', x, 'samples:', mean * 100)"
   ]
  },
  {
   "cell_type": "markdown",
   "metadata": {},
   "source": [
    "---"
   ]
  }
 ],
 "metadata": {
  "kernelspec": {
   "display_name": "Python 3",
   "language": "python",
   "name": "python3"
  },
  "language_info": {
   "codemirror_mode": {
    "name": "ipython",
    "version": 3
   },
   "file_extension": ".py",
   "mimetype": "text/x-python",
   "name": "python",
   "nbconvert_exporter": "python",
   "pygments_lexer": "ipython3",
   "version": "3.6.5"
  }
 },
 "nbformat": 4,
 "nbformat_minor": 2
}
