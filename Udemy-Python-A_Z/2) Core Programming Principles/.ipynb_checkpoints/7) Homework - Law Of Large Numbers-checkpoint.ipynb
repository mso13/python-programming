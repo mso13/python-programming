{
 "cells": [
  {
   "cell_type": "code",
   "execution_count": 3,
   "metadata": {},
   "outputs": [],
   "source": [
    "import numpy as np\n",
    "from numpy.random import randn"
   ]
  },
  {
   "cell_type": "code",
   "execution_count": 55,
   "metadata": {},
   "outputs": [
    {
     "name": "stdout",
     "output_type": "stream",
     "text": [
      "60.0\n",
      "78.0\n",
      "78.60000000000001\n",
      "76.36\n",
      "76.1\n"
     ]
    }
   ],
   "source": [
    "myList = [10, 100, 1000, 10000, 100000]\n",
    "totalBetween = 0\n",
    "result = 0.0\n",
    "\n",
    "for x in myList:\n",
    "    for y in range(x):\n",
    "        result = randn()\n",
    "        if (result > -1 and result < 1):\n",
    "            totalBetween = totalBetween + 1\n",
    "    mean = totalBetween / x\n",
    "    print(mean * 100)"
   ]
  },
  {
   "cell_type": "code",
   "execution_count": null,
   "metadata": {},
   "outputs": [],
   "source": []
  }
 ],
 "metadata": {
  "kernelspec": {
   "display_name": "Python 3",
   "language": "python",
   "name": "python3"
  },
  "language_info": {
   "codemirror_mode": {
    "name": "ipython",
    "version": 3
   },
   "file_extension": ".py",
   "mimetype": "text/x-python",
   "name": "python",
   "nbconvert_exporter": "python",
   "pygments_lexer": "ipython3",
   "version": "3.6.5"
  }
 },
 "nbformat": 4,
 "nbformat_minor": 2
}
