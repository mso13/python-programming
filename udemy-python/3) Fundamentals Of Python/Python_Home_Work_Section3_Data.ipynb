{
 "cells": [
  {
   "cell_type": "code",
   "execution_count": 39,
   "metadata": {},
   "outputs": [],
   "source": [
    "import numpy as np"
   ]
  },
  {
   "cell_type": "code",
   "execution_count": 1,
   "metadata": {},
   "outputs": [],
   "source": [
    "# Data \n",
    "revenue = [14574.49, 7606.46, 8611.41, 9175.41, 8058.65, 8105.44, 11496.28, 9766.09, 10305.32, 14379.96, 10713.97, 15433.50]\n",
    "expenses = [12051.82, 5695.07, 12319.20, 12089.72, 8658.57, 840.20, 3285.73, 5821.12, 6976.93, 16618.61, 10054.37, 3803.96]"
   ]
  },
  {
   "cell_type": "code",
   "execution_count": 46,
   "metadata": {},
   "outputs": [],
   "source": [
    "# Variables\n",
    "profit = []\n",
    "profitAfterTax = []\n",
    "profitMargin = []\n",
    "goodMonths = []\n",
    "badMonths = []\n",
    "bestMonth = []\n",
    "worstMonth = []"
   ]
  },
  {
   "cell_type": "code",
   "execution_count": 47,
   "metadata": {},
   "outputs": [],
   "source": [
    "# Code\n",
    "for i in range(12):\n",
    "    profit.append(revenue[i] - expenses[i])"
   ]
  },
  {
   "cell_type": "code",
   "execution_count": 48,
   "metadata": {},
   "outputs": [
    {
     "data": {
      "text/plain": [
       "[2522.67,\n",
       " 1911.3900000000003,\n",
       " -3707.790000000001,\n",
       " -2914.3099999999995,\n",
       " -599.9200000000001,\n",
       " 7265.24,\n",
       " 8210.550000000001,\n",
       " 3944.9700000000003,\n",
       " 3328.3899999999994,\n",
       " -2238.6500000000015,\n",
       " 659.5999999999985,\n",
       " 11629.54]"
      ]
     },
     "execution_count": 48,
     "metadata": {},
     "output_type": "execute_result"
    }
   ],
   "source": [
    "profit"
   ]
  },
  {
   "cell_type": "code",
   "execution_count": 49,
   "metadata": {},
   "outputs": [],
   "source": [
    "# Code\n",
    "for i in range(12):\n",
    "    profitAfterTax.append(profit[i] - 0.3 * profit[i])"
   ]
  },
  {
   "cell_type": "code",
   "execution_count": 50,
   "metadata": {},
   "outputs": [
    {
     "data": {
      "text/plain": [
       "[1765.8690000000001,\n",
       " 1337.9730000000004,\n",
       " -2595.4530000000004,\n",
       " -2040.0169999999998,\n",
       " -419.9440000000001,\n",
       " 5085.668,\n",
       " 5747.385,\n",
       " 2761.4790000000003,\n",
       " 2329.8729999999996,\n",
       " -1567.0550000000012,\n",
       " 461.719999999999,\n",
       " 8140.678000000001]"
      ]
     },
     "execution_count": 50,
     "metadata": {},
     "output_type": "execute_result"
    }
   ],
   "source": [
    "profitAfterTax"
   ]
  },
  {
   "cell_type": "code",
   "execution_count": 51,
   "metadata": {},
   "outputs": [],
   "source": [
    "# Code\n",
    "for i in range(12):\n",
    "    profitMargin.append(profitAfterTax[i] / revenue[i])"
   ]
  },
  {
   "cell_type": "code",
   "execution_count": 52,
   "metadata": {},
   "outputs": [
    {
     "data": {
      "text/plain": [
       "[0.1211616324138958,\n",
       " 0.17589956431769843,\n",
       " -0.3013969837692086,\n",
       " -0.22233524169492153,\n",
       " -0.052110961513404865,\n",
       " 0.6274388558795081,\n",
       " 0.49993432658216397,\n",
       " 0.2827619856052934,\n",
       " 0.2260844884001661,\n",
       " -0.10897492065346505,\n",
       " 0.04309513653668986,\n",
       " 0.5274680403019406]"
      ]
     },
     "execution_count": 52,
     "metadata": {},
     "output_type": "execute_result"
    }
   ],
   "source": [
    "profitMargin"
   ]
  },
  {
   "cell_type": "code",
   "execution_count": 53,
   "metadata": {},
   "outputs": [],
   "source": [
    "profitAfterTaxArray = np.array(profitAfterTax)"
   ]
  },
  {
   "cell_type": "code",
   "execution_count": 54,
   "metadata": {},
   "outputs": [],
   "source": [
    "meanProfit = profitAfterTaxArray.mean()"
   ]
  },
  {
   "cell_type": "code",
   "execution_count": 55,
   "metadata": {},
   "outputs": [
    {
     "data": {
      "text/plain": [
       "1750.6813333333332"
      ]
     },
     "execution_count": 55,
     "metadata": {},
     "output_type": "execute_result"
    }
   ],
   "source": [
    "meanProfit"
   ]
  },
  {
   "cell_type": "code",
   "execution_count": 56,
   "metadata": {},
   "outputs": [],
   "source": [
    "for i in range(12):\n",
    "    if profitAfterTax[i] > meanProfit:\n",
    "        goodMonths.append([i, profitAfterTax[i]])\n",
    "    else:\n",
    "        badMonths.append([i, profitAfterTax[i]])"
   ]
  },
  {
   "cell_type": "code",
   "execution_count": 57,
   "metadata": {},
   "outputs": [
    {
     "data": {
      "text/plain": [
       "[[0, 1765.8690000000001],\n",
       " [5, 5085.668],\n",
       " [6, 5747.385],\n",
       " [7, 2761.4790000000003],\n",
       " [8, 2329.8729999999996],\n",
       " [11, 8140.678000000001]]"
      ]
     },
     "execution_count": 57,
     "metadata": {},
     "output_type": "execute_result"
    }
   ],
   "source": [
    "goodMonths"
   ]
  },
  {
   "cell_type": "code",
   "execution_count": 58,
   "metadata": {},
   "outputs": [
    {
     "data": {
      "text/plain": [
       "[[1, 1337.9730000000004],\n",
       " [2, -2595.4530000000004],\n",
       " [3, -2040.0169999999998],\n",
       " [4, -419.9440000000001],\n",
       " [9, -1567.0550000000012],\n",
       " [10, 461.719999999999]]"
      ]
     },
     "execution_count": 58,
     "metadata": {},
     "output_type": "execute_result"
    }
   ],
   "source": [
    "badMonths"
   ]
  },
  {
   "cell_type": "code",
   "execution_count": null,
   "metadata": {},
   "outputs": [],
   "source": [
    "for i in "
   ]
  }
 ],
 "metadata": {
  "kernelspec": {
   "display_name": "Python 3",
   "language": "python",
   "name": "python3"
  },
  "language_info": {
   "codemirror_mode": {
    "name": "ipython",
    "version": 3
   },
   "file_extension": ".py",
   "mimetype": "text/x-python",
   "name": "python",
   "nbconvert_exporter": "python",
   "pygments_lexer": "ipython3",
   "version": "3.6.5"
  }
 },
 "nbformat": 4,
 "nbformat_minor": 1
}
