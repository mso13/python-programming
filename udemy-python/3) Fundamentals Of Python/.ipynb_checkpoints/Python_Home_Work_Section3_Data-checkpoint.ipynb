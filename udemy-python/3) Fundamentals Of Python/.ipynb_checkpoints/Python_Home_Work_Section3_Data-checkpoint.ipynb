{
 "cells": [
  {
   "cell_type": "code",
   "execution_count": 1,
   "metadata": {},
   "outputs": [],
   "source": [
    "import numpy as np"
   ]
  },
  {
   "cell_type": "code",
   "execution_count": 2,
   "metadata": {},
   "outputs": [],
   "source": [
    "# Data \n",
    "revenue = [14574.49, 7606.46, 8611.41, 9175.41, 8058.65, 8105.44, 11496.28, 9766.09, 10305.32, 14379.96, 10713.97, 15433.50]\n",
    "expenses = [12051.82, 5695.07, 12319.20, 12089.72, 8658.57, 840.20, 3285.73, 5821.12, 6976.93, 16618.61, 10054.37, 3803.96]"
   ]
  },
  {
   "cell_type": "code",
   "execution_count": 12,
   "metadata": {},
   "outputs": [],
   "source": [
    "# Code [profit for each month]\n",
    "\n",
    "profit = list()\n",
    "for i in range(12):\n",
    "    profit.append(revenue[i] - expenses[i])"
   ]
  },
  {
   "cell_type": "code",
   "execution_count": 13,
   "metadata": {},
   "outputs": [
    {
     "data": {
      "text/plain": [
       "[2522.67,\n",
       " 1911.3900000000003,\n",
       " -3707.790000000001,\n",
       " -2914.3099999999995,\n",
       " -599.9200000000001,\n",
       " 7265.24,\n",
       " 8210.550000000001,\n",
       " 3944.9700000000003,\n",
       " 3328.3899999999994,\n",
       " -2238.6500000000015,\n",
       " 659.5999999999985,\n",
       " 11629.54]"
      ]
     },
     "execution_count": 13,
     "metadata": {},
     "output_type": "execute_result"
    }
   ],
   "source": [
    "profit"
   ]
  },
  {
   "cell_type": "code",
   "execution_count": 14,
   "metadata": {},
   "outputs": [],
   "source": [
    "# Code [profit after tax for each month (the tax rate is 30%)]\n",
    "\n",
    "profitAfterTax = list()\n",
    "for i in range(12):\n",
    "    profitAfterTax.append(profit[i] - 0.3 * profit[i])\n",
    "    #profitAfterTax.append(0.7*profit[i])"
   ]
  },
  {
   "cell_type": "code",
   "execution_count": 15,
   "metadata": {},
   "outputs": [
    {
     "data": {
      "text/plain": [
       "[1765.8690000000001,\n",
       " 1337.9730000000004,\n",
       " -2595.4530000000004,\n",
       " -2040.0169999999998,\n",
       " -419.9440000000001,\n",
       " 5085.668,\n",
       " 5747.385,\n",
       " 2761.4790000000003,\n",
       " 2329.8729999999996,\n",
       " -1567.0550000000012,\n",
       " 461.719999999999,\n",
       " 8140.678000000001]"
      ]
     },
     "execution_count": 15,
     "metadata": {},
     "output_type": "execute_result"
    }
   ],
   "source": [
    "profitAfterTax"
   ]
  },
  {
   "cell_type": "code",
   "execution_count": 65,
   "metadata": {},
   "outputs": [],
   "source": [
    "# Code [profit margin for each month - equals to profit after tax divided by revenue]\n",
    "\n",
    "profitMargin = list()\n",
    "for i in range(12):\n",
    "    profitMargin.append(profitAfterTax[i] / revenue[i])"
   ]
  },
  {
   "cell_type": "code",
   "execution_count": 66,
   "metadata": {},
   "outputs": [
    {
     "name": "stdout",
     "output_type": "stream",
     "text": [
      "12.0 %\n",
      "18.0 %\n",
      "-30.0 %\n",
      "-22.0 %\n",
      "-5.0 %\n",
      "63.0 %\n",
      "50.0 %\n",
      "28.000000000000004 %\n",
      "23.0 %\n",
      "-11.0 %\n",
      "4.0 %\n",
      "53.0 %\n"
     ]
    }
   ],
   "source": [
    "# Profit Margin\n",
    "profitMargin = np.array(profitMargin)\n",
    "profitMargin = profitMargin.round(2)\n",
    "for i in profitMargin:\n",
    "    print(i*100, '%')"
   ]
  },
  {
   "cell_type": "code",
   "execution_count": 34,
   "metadata": {},
   "outputs": [
    {
     "name": "stdout",
     "output_type": "stream",
     "text": [
      "[ 1765.869  1337.973 -2595.453 -2040.017  -419.944  5085.668  5747.385\n",
      "  2761.479  2329.873 -1567.055   461.72   8140.678]\n"
     ]
    }
   ],
   "source": [
    "profitAfterTaxArray = np.array(profitAfterTax)\n",
    "print(profitAfterTaxArray)"
   ]
  },
  {
   "cell_type": "code",
   "execution_count": 35,
   "metadata": {},
   "outputs": [
    {
     "name": "stdout",
     "output_type": "stream",
     "text": [
      "1750.6813333333332\n"
     ]
    }
   ],
   "source": [
    "meanProfit = profitAfterTaxArray.mean()\n",
    "print(meanProfit)"
   ]
  },
  {
   "cell_type": "code",
   "execution_count": 21,
   "metadata": {},
   "outputs": [],
   "source": [
    "# Code [good months - where the profit after tax was greater than the mean for the year]\n",
    "# Code [bad months - where the profit after tax was less than the mean for the year]\n",
    "\n",
    "goodMonths = list()\n",
    "badMonths = list()\n",
    "\n",
    "for i in range(12):\n",
    "    if profitAfterTax[i] > meanProfit:\n",
    "        goodMonths.append([i, profitAfterTax[i]])\n",
    "    else:\n",
    "        badMonths.append([i, profitAfterTax[i]])"
   ]
  },
  {
   "cell_type": "code",
   "execution_count": 22,
   "metadata": {},
   "outputs": [
    {
     "data": {
      "text/plain": [
       "[[0, 1765.8690000000001],\n",
       " [5, 5085.668],\n",
       " [6, 5747.385],\n",
       " [7, 2761.4790000000003],\n",
       " [8, 2329.8729999999996],\n",
       " [11, 8140.678000000001]]"
      ]
     },
     "execution_count": 22,
     "metadata": {},
     "output_type": "execute_result"
    }
   ],
   "source": [
    "goodMonths"
   ]
  },
  {
   "cell_type": "code",
   "execution_count": 23,
   "metadata": {},
   "outputs": [
    {
     "data": {
      "text/plain": [
       "[[1, 1337.9730000000004],\n",
       " [2, -2595.4530000000004],\n",
       " [3, -2040.0169999999998],\n",
       " [4, -419.9440000000001],\n",
       " [9, -1567.0550000000012],\n",
       " [10, 461.719999999999]]"
      ]
     },
     "execution_count": 23,
     "metadata": {},
     "output_type": "execute_result"
    }
   ],
   "source": [
    "badMonths"
   ]
  },
  {
   "cell_type": "code",
   "execution_count": 47,
   "metadata": {},
   "outputs": [
    {
     "name": "stdout",
     "output_type": "stream",
     "text": [
      "Best Month:  [11, 8140.678000000001]\n",
      "Worst Month:  [2, -2595.4530000000004]\n"
     ]
    }
   ],
   "source": [
    "# Code [the best month - where the profit after tax was max for the year]\n",
    "# Code [the worst month - where the profit after tax was min for the year]\n",
    "\n",
    "bestMonth  = list()\n",
    "worstMonth = list()\n",
    "\n",
    "max  = goodMonths[0]\n",
    "min  = badMonths[0]\n",
    "\n",
    "# Best Month\n",
    "for i in goodMonths:\n",
    "    if i[1] > max[1]:\n",
    "        max = i\n",
    "print('Best Month: ', max)\n",
    "\n",
    "\n",
    "# Worst Month\n",
    "for i in badMonths:\n",
    "    if i[1] < min[1]:\n",
    "        min = i\n",
    "print('Worst Month: ', min)"
   ]
  },
  {
   "cell_type": "code",
   "execution_count": null,
   "metadata": {},
   "outputs": [],
   "source": []
  }
 ],
 "metadata": {
  "kernelspec": {
   "display_name": "Python 3",
   "language": "python",
   "name": "python3"
  },
  "language_info": {
   "codemirror_mode": {
    "name": "ipython",
    "version": 3
   },
   "file_extension": ".py",
   "mimetype": "text/x-python",
   "name": "python",
   "nbconvert_exporter": "python",
   "pygments_lexer": "ipython3",
   "version": "3.6.5"
  }
 },
 "nbformat": 4,
 "nbformat_minor": 1
}
