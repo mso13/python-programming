{
 "cells": [
  {
   "cell_type": "code",
   "execution_count": 1,
   "metadata": {},
   "outputs": [],
   "source": [
    "import numpy as np"
   ]
  },
  {
   "cell_type": "code",
   "execution_count": 2,
   "metadata": {},
   "outputs": [],
   "source": [
    "# Data \n",
    "revenue = [14574.49, 7606.46, 8611.41, 9175.41, 8058.65, 8105.44, 11496.28, 9766.09, 10305.32, 14379.96, 10713.97, 15433.50]\n",
    "expenses = [12051.82, 5695.07, 12319.20, 12089.72, 8658.57, 840.20, 3285.73, 5821.12, 6976.93, 16618.61, 10054.37, 3803.96]"
   ]
  },
  {
   "cell_type": "code",
   "execution_count": 3,
   "metadata": {},
   "outputs": [],
   "source": [
    "# Code [profit for each month]\n",
    "\n",
    "profit = list([])\n",
    "for i in range(12):\n",
    "    profit.append(revenue[i] - expenses[i])"
   ]
  },
  {
   "cell_type": "code",
   "execution_count": 7,
   "metadata": {},
   "outputs": [
    {
     "name": "stdout",
     "output_type": "stream",
     "text": [
      "[2522.67, 1911.3900000000003, -3707.790000000001, -2914.3099999999995, -599.9200000000001, 7265.24, 8210.550000000001, 3944.9700000000003, 3328.3899999999994, -2238.6500000000015, 659.5999999999985, 11629.54]\n"
     ]
    }
   ],
   "source": [
    "print(profit)"
   ]
  },
  {
   "cell_type": "code",
   "execution_count": 5,
   "metadata": {},
   "outputs": [],
   "source": [
    "# Code [profit after tax for each month (the tax rate is 30%)]\n",
    "\n",
    "profitAfterTax = list([])\n",
    "for i in range(12):\n",
    "    profitAfterTax.append(round(profit[i] - 0.3 * profit[i], 2))\n",
    "    #profitAfterTax.append(0.7 * profit[i])"
   ]
  },
  {
   "cell_type": "code",
   "execution_count": 8,
   "metadata": {},
   "outputs": [
    {
     "name": "stdout",
     "output_type": "stream",
     "text": [
      "[1765.87, 1337.97, -2595.45, -2040.02, -419.94, 5085.67, 5747.39, 2761.48, 2329.87, -1567.06, 461.72, 8140.68]\n"
     ]
    }
   ],
   "source": [
    "print(profitAfterTax)"
   ]
  },
  {
   "cell_type": "code",
   "execution_count": 12,
   "metadata": {},
   "outputs": [
    {
     "name": "stdout",
     "output_type": "stream",
     "text": [
      "[12.12, 17.59, -30.14, -22.23, -5.21, 62.74, 49.99, 28.28, 22.61, -10.9, 4.31, 52.75]\n"
     ]
    }
   ],
   "source": [
    "# Code [profit margin for each month - equals to profit after tax divided by revenue]\n",
    "\n",
    "profitMargin = list([])\n",
    "\n",
    "for i in range(12):\n",
    "    profitMargin.append(profitAfterTax[i] / revenue[i])\n",
    "    \n",
    "profitMargin = [round((i*100), 2) for i in profitMargin]\n",
    "print(profitMargin)"
   ]
  },
  {
   "cell_type": "code",
   "execution_count": 14,
   "metadata": {},
   "outputs": [
    {
     "name": "stdout",
     "output_type": "stream",
     "text": [
      "[ 1765.87  1337.97 -2595.45 -2040.02  -419.94  5085.67  5747.39  2761.48\n",
      "  2329.87 -1567.06   461.72  8140.68]\n"
     ]
    }
   ],
   "source": [
    "profitAfterTaxArray = np.array(profitAfterTax)\n",
    "print(profitAfterTaxArray)"
   ]
  },
  {
   "cell_type": "code",
   "execution_count": 16,
   "metadata": {},
   "outputs": [
    {
     "name": "stdout",
     "output_type": "stream",
     "text": [
      "1750.6816666666666\n"
     ]
    }
   ],
   "source": [
    "meanProfit = sum(profitAfterTaxArray) / len(profitAfterTaxArray)\n",
    "print(meanProfit)"
   ]
  },
  {
   "cell_type": "code",
   "execution_count": 17,
   "metadata": {},
   "outputs": [],
   "source": [
    "# Code [good months - where the profit after tax was greater than the mean for the year]\n",
    "# Code [bad months - where the profit after tax was less than the mean for the year]\n",
    "\n",
    "goodMonths = list([])\n",
    "badMonths = list([])\n",
    "\n",
    "for i in range(12):\n",
    "    if profitAfterTax[i] > meanProfit:\n",
    "        goodMonths.append([i, profitAfterTax[i]])\n",
    "    else:\n",
    "        badMonths.append([i, profitAfterTax[i]])"
   ]
  },
  {
   "cell_type": "code",
   "execution_count": 18,
   "metadata": {},
   "outputs": [
    {
     "name": "stdout",
     "output_type": "stream",
     "text": [
      "[[0, 1765.87], [5, 5085.67], [6, 5747.39], [7, 2761.48], [8, 2329.87], [11, 8140.68]]\n"
     ]
    }
   ],
   "source": [
    "print(goodMonths)"
   ]
  },
  {
   "cell_type": "code",
   "execution_count": 19,
   "metadata": {},
   "outputs": [
    {
     "name": "stdout",
     "output_type": "stream",
     "text": [
      "[[1, 1337.97], [2, -2595.45], [3, -2040.02], [4, -419.94], [9, -1567.06], [10, 461.72]]\n"
     ]
    }
   ],
   "source": [
    "print(badMonths)"
   ]
  },
  {
   "cell_type": "code",
   "execution_count": 47,
   "metadata": {},
   "outputs": [
    {
     "name": "stdout",
     "output_type": "stream",
     "text": [
      "Best Month:  [11, 8140.678000000001]\n",
      "Worst Month:  [2, -2595.4530000000004]\n"
     ]
    }
   ],
   "source": [
    "# Code [the best month - where the profit after tax was max for the year]\n",
    "# Code [the worst month - where the profit after tax was min for the year]\n",
    "\n",
    "bestMonth  = list()\n",
    "worstMonth = list()\n",
    "\n",
    "max  = goodMonths[0]\n",
    "min  = badMonths[0]\n",
    "\n",
    "# Best Month\n",
    "for i in goodMonths:\n",
    "    if i[1] > max[1]:\n",
    "        max = i\n",
    "print('Best Month: ', max)\n",
    "\n",
    "\n",
    "# Worst Month\n",
    "for i in badMonths:\n",
    "    if i[1] < min[1]:\n",
    "        min = i\n",
    "print('Worst Month: ', min)"
   ]
  },
  {
   "cell_type": "code",
   "execution_count": 23,
   "metadata": {},
   "outputs": [
    {
     "name": "stdout",
     "output_type": "stream",
     "text": [
      "[14.57, 7.61, 8.61, 9.18, 8.06, 8.11, 11.5, 9.77, 10.31, 14.38, 10.71, 15.43]\n"
     ]
    }
   ],
   "source": [
    "# Convert All Calculations To Units Of One Thousand Dollars\n",
    "\n",
    "revenue_1000 = [round(i/1000, 2) for i in revenue]\n",
    "#revenue_1000 = [int(i) for i in revenue_1000]\n",
    "print(revenue_1000)"
   ]
  },
  {
   "cell_type": "markdown",
   "metadata": {},
   "source": [
    "---"
   ]
  },
  {
   "cell_type": "code",
   "execution_count": null,
   "metadata": {},
   "outputs": [],
   "source": []
  }
 ],
 "metadata": {
  "kernelspec": {
   "display_name": "Python 3",
   "language": "python",
   "name": "python3"
  },
  "language_info": {
   "codemirror_mode": {
    "name": "ipython",
    "version": 3
   },
   "file_extension": ".py",
   "mimetype": "text/x-python",
   "name": "python",
   "nbconvert_exporter": "python",
   "pygments_lexer": "ipython3",
   "version": "3.6.5"
  }
 },
 "nbformat": 4,
 "nbformat_minor": 1
}
